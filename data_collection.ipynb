{
 "cells": [
  {
   "cell_type": "code",
   "execution_count": null,
   "metadata": {},
   "outputs": [],
   "source": [
    "import os\n",
    "import tweepy as tw\n",
    "import pandas as pd\n",
    "from datetime import datetime\n",
    "from vaderSentiment.vaderSentiment import SentimentIntensityAnalyzer\n",
    "from twython import Twython\n",
    "from requests import request"
   ]
  },
  {
   "cell_type": "code",
   "execution_count": null,
   "metadata": {},
   "outputs": [],
   "source": [
    "consumer_key= ####\n",
    "consumer_secret= ####\n",
    "access_token= ####\n",
    "access_token_secret= ####"
   ]
  },
  {
   "cell_type": "code",
   "execution_count": null,
   "metadata": {},
   "outputs": [],
   "source": [
    "auth = tw.OAuthHandler(consumer_key, consumer_secret)\n",
    "auth.set_access_token(access_token, access_token_secret)\n",
    "api = tw.API(auth,wait_on_rate_limit=True)"
   ]
  },
  {
   "cell_type": "markdown",
   "metadata": {},
   "source": [
    "# Collecting tweets"
   ]
  },
  {
   "cell_type": "code",
   "execution_count": null,
   "metadata": {},
   "outputs": [],
   "source": [
    "def get_tweets_info(tweets):\n",
    "    '''Gets tweets as collected using tw.Cursor.\n",
    "    Returns features of each tweet as list of lists'''\n",
    "    \n",
    "    twst = [[tweet.id, tweet.user.id, tweet.user.name, tweet.user.screen_name, tweet.user.location, tweet.coordinates, tweet.full_text, tweet.retweeted, tweet.created_at,\n",
    "             tweet.user.friends_count, tweet.user.url, tweet.user.description, tweet.retweet_count] for tweet in tweets]\n",
    "    \n",
    "    return twst\n",
    "    "
   ]
  },
  {
   "cell_type": "code",
   "execution_count": null,
   "metadata": {},
   "outputs": [],
   "source": [
    "#create dataframe of tweets\n",
    "df = pd.DataFrame(twst, columns = [\"id\", \"user_id\", \"username\", \"user_screen_name\", \"location\", \"coordinates\", \"text\", \"retweeted\", \"created_at\",\n",
    "                             \"friends_count\", \"url\", \"description\", \"retweet_count\"])"
   ]
  },
  {
   "cell_type": "code",
   "execution_count": null,
   "metadata": {},
   "outputs": [],
   "source": [
    "#this cell was run multiple times at different times\n",
    "\n",
    "for q in ['#AOC', 'Alexandria Ocasio Cortez', 'AOC', '#alexandriaocasiocortez']:\n",
    "    \n",
    "    tweets = tw.Cursor(api.search,\n",
    "                  q=q,\n",
    "                  lang=\"en\",\n",
    "                  tweet_mode=\"extended\").items()\n",
    "\n",
    "    get_tweets_info(tweets)\n",
    "    df.append(twst)"
   ]
  },
  {
   "cell_type": "markdown",
   "metadata": {},
   "source": [
    "# Save all"
   ]
  },
  {
   "cell_type": "code",
   "execution_count": null,
   "metadata": {},
   "outputs": [],
   "source": [
    "#Running this cell will overwrite the existing file and substitue the tweets collected. Do not run this cell.\n",
    "#df.to_csv(\".\\data\\df.csv\", index=False)"
   ]
  }
 ],
 "metadata": {
  "kernelspec": {
   "display_name": "Python 3",
   "language": "python",
   "name": "python3"
  },
  "language_info": {
   "codemirror_mode": {
    "name": "ipython",
    "version": 3
   },
   "file_extension": ".py",
   "mimetype": "text/x-python",
   "name": "python",
   "nbconvert_exporter": "python",
   "pygments_lexer": "ipython3",
   "version": "3.6.5"
  },
  "latex_envs": {
   "LaTeX_envs_menu_present": true,
   "autoclose": false,
   "autocomplete": true,
   "bibliofile": "biblio.bib",
   "cite_by": "apalike",
   "current_citInitial": 1,
   "eqLabelWithNumbers": true,
   "eqNumInitial": 1,
   "hotkeys": {
    "equation": "Ctrl-E",
    "itemize": "Ctrl-I"
   },
   "labels_anchors": false,
   "latex_user_defs": false,
   "report_style_numbering": false,
   "user_envs_cfg": false
  },
  "toc": {
   "base_numbering": 1,
   "nav_menu": {},
   "number_sections": true,
   "sideBar": true,
   "skip_h1_title": false,
   "title_cell": "Table of Contents",
   "title_sidebar": "Contents",
   "toc_cell": false,
   "toc_position": {},
   "toc_section_display": true,
   "toc_window_display": true
  }
 },
 "nbformat": 4,
 "nbformat_minor": 4
}

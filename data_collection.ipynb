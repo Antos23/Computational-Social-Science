{
 "cells": [
  {
   "cell_type": "code",
   "execution_count": null,
   "metadata": {},
   "outputs": [],
   "source": [
    "import os\n",
    "import tweepy as tw\n",
    "import pandas as pd\n",
    "from datetime import datetime\n",
    "from vaderSentiment.vaderSentiment import SentimentIntensityAnalyzer\n",
    "from twython import Twython\n",
    "from requests import request"
   ]
  },
  {
   "cell_type": "code",
   "execution_count": null,
   "metadata": {},
   "outputs": [],
   "source": [
    "consumer_key= 'hw44QrPJFs1iqKlUx0pPXIasy'\n",
    "consumer_secret= 'eQ8r2GoyTzjf9HnQVLtuEvZrKHnk5RqWvoV7ePDwbrGpRTEM2d'\n",
    "access_token= '1251926676780564483-zsqauIKp86GjCFOMw9PHHrb2a1tvpb'\n",
    "access_token_secret= '4oeNjtN4PLIPRrMviuMlY7xCD9k3s7TQMLWifDuISgwKY'"
   ]
  },
  {
   "cell_type": "code",
   "execution_count": null,
   "metadata": {},
   "outputs": [],
   "source": [
    "auth = tw.OAuthHandler(consumer_key, consumer_secret)\n",
    "auth.set_access_token(access_token, access_token_secret)\n",
    "api = tw.API(auth,wait_on_rate_limit=True)"
   ]
  },
  {
   "cell_type": "markdown",
   "metadata": {},
   "source": [
    "## 1. Cerco i tweets"
   ]
  },
  {
   "cell_type": "code",
   "execution_count": null,
   "metadata": {},
   "outputs": [],
   "source": [
    "#tweets = api.search(q=\"#AOC\", lang=\"en\", count=10)\n",
    "tweets = tw.Cursor(api.search,\n",
    "              q=\"#AOC\",\n",
    "              lang=\"en\",\n",
    "              tweet_mode=\"extended\").items()"
   ]
  },
  {
   "cell_type": "code",
   "execution_count": null,
   "metadata": {},
   "outputs": [],
   "source": [
    "twst = [[tweet.id, tweet.user.id, tweet.user.name, tweet.user.screen_name, tweet.user.location, tweet.coordinates, tweet.full_text, tweet.retweeted, tweet.created_at,\n",
    "        tweet.user.friends_count, tweet.user.url, tweet.user.description, tweet.retweet_count] for tweet in tweets]\n",
    "\n",
    "df = pd.DataFrame(twst, columns = [\"id\", \"user_id\", \"username\", \"user_screen_name\", \"location\", \"coordinates\", \"text\", \"retweeted\", \"created_at\",\n",
    "                             \"friends_count\", \"url\", \"description\", \"retweet_count\"])"
   ]
  },
  {
   "cell_type": "code",
   "execution_count": null,
   "metadata": {},
   "outputs": [],
   "source": [
    "tweets = tw.Cursor(api.search,\n",
    "              q=\"#alexandriaocasiocortez\",\n",
    "              lang=\"en\",\n",
    "              tweet_mode=\"extended\").items(5000)"
   ]
  },
  {
   "cell_type": "code",
   "execution_count": null,
   "metadata": {},
   "outputs": [],
   "source": [
    "twst = [[tweet.id, tweet.user.id, tweet.user.name, tweet.user.screen_name, tweet.user.location, tweet.coordinates, tweet.full_text, tweet.retweeted, tweet.created_at,\n",
    "        tweet.user.friends_count, tweet.user.url, tweet.user.description, tweet.retweet_count] for tweet in tweets]\n",
    "\n",
    "df.append(twst)"
   ]
  },
  {
   "cell_type": "code",
   "execution_count": null,
   "metadata": {},
   "outputs": [],
   "source": [
    "#tweets = api.search(q=\"#AOC\", lang=\"en\", count=10)\n",
    "tweets = tw.Cursor(api.search,\n",
    "              q=\"Alexandria Ocasio Cortez\",\n",
    "              lang=\"en\",\n",
    "              tweet_mode=\"extended\",\n",
    "              include_rts = False).items(5000)\n",
    "\n",
    "df.append(twst)"
   ]
  },
  {
   "cell_type": "code",
   "execution_count": null,
   "metadata": {},
   "outputs": [],
   "source": [
    "twst = [[tweet.id, tweet.user.id, tweet.user.name, tweet.user.screen_name, tweet.user.location, tweet.coordinates, tweet.full_text, tweet.retweeted, tweet.created_at,\n",
    "        tweet.user.friends_count, tweet.user.url, tweet.user.description, tweet.retweet_count] for tweet in tweets]\n",
    "\n",
    "df.append(twst)"
   ]
  },
  {
   "cell_type": "code",
   "execution_count": null,
   "metadata": {},
   "outputs": [],
   "source": [
    "#tweets = api.search(q=\"#AOC\", lang=\"en\", count=10)\n",
    "tweets = tw.Cursor(api.search,\n",
    "              q=\"AOC\",\n",
    "              lang=\"en\",\n",
    "              tweet_mode=\"extended\",\n",
    "              include_rts = False).items(5000)"
   ]
  },
  {
   "cell_type": "code",
   "execution_count": null,
   "metadata": {},
   "outputs": [],
   "source": [
    "twst = [[tweet.id, tweet.user.id, tweet.user.name, tweet.user.screen_name, tweet.user.location, tweet.coordinates, tweet.full_text, tweet.retweeted, tweet.created_at,\n",
    "        tweet.user.friends_count, tweet.user.url, tweet.user.description, tweet.retweet_count] for tweet in tweets]\n",
    "\n",
    "df.append(twst)"
   ]
  },
  {
   "cell_type": "code",
   "execution_count": null,
   "metadata": {},
   "outputs": [],
   "source": [
    "df.to_csv(\".\\data\\df.csv\", index=False)"
   ]
  }
 ],
 "metadata": {
  "kernelspec": {
   "display_name": "Python 3",
   "language": "python",
   "name": "python3"
  },
  "language_info": {
   "codemirror_mode": {
    "name": "ipython",
    "version": 3
   },
   "file_extension": ".py",
   "mimetype": "text/x-python",
   "name": "python",
   "nbconvert_exporter": "python",
   "pygments_lexer": "ipython3",
   "version": "3.6.5"
  }
 },
 "nbformat": 4,
 "nbformat_minor": 4
}
